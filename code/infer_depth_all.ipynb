{
 "cells": [
  {
   "cell_type": "code",
   "execution_count": null,
   "metadata": {
    "pycharm": {
     "name": "#%%\n"
    }
   },
   "outputs": [],
   "source": [
    "!pip install yacs\n",
    "!pip install gdown\n",
    "!pip install matplotlib\n",
    "!pip install opencv-python"
   ]
  },
  {
   "cell_type": "code",
   "execution_count": null,
   "metadata": {
    "pycharm": {
     "name": "#%%\n"
    }
   },
   "outputs": [],
   "source": [
    "import os, time\n",
    "import importlib\n",
    "import imageio.v3 as iio\n",
    "import torch\n",
    "import numpy as np\n",
    "import matplotlib.pyplot as plt\n",
    "import glob\n",
    "import cv2"
   ]
  },
  {
   "cell_type": "markdown",
   "metadata": {
    "pycharm": {
     "name": "#%% md\n"
    }
   },
   "source": [
    "### Download pretrained\n",
    "- We use HoHoNet w/ hardnet encoder in this demo\n",
    "- Download other version [here](https://drive.google.com/drive/folders/1raT3vRXnQXRAQuYq36dE-93xFc_hgkTQ?usp=sharing)"
   ]
  },
  {
   "cell_type": "code",
   "execution_count": null,
   "metadata": {
    "pycharm": {
     "name": "#%%\n"
    }
   },
   "outputs": [],
   "source": [
    "PRETRAINED_PTH = './HoHoNet/ckpt/mp3d_depth_HOHO_depth_dct_efficienthc_TransEn1_hardnet/ep60.pth'\n",
    "\n",
    "if not os.path.exists(PRETRAINED_PTH):\n",
    "    os.makedirs(os.path.split(PRETRAINED_PTH)[0], exist_ok=True)\n",
    "    !gdown 'https://drive.google.com/uc?id=1w31WOzQvvGjoCXXFmnkeOL035hx7NJRQ' -O $PRETRAINED_PTH"
   ]
  },
  {
   "cell_type": "markdown",
   "metadata": {
    "pycharm": {
     "name": "#%% md\n"
    }
   },
   "source": [
    "### Download image\n",
    "- We use a out-of-distribution image from PanoContext"
   ]
  },
  {
   "cell_type": "code",
   "execution_count": null,
   "metadata": {
    "pycharm": {
     "name": "#%%\n"
    }
   },
   "outputs": [],
   "source": [
    "if not os.path.exists('./HoHoNet/assets/pano_asmasuxybohhcj.png'):\n",
    "    !gdown 'https://drive.google.com/uc?id=1CXl6RPK6yPRFXxsa5OisHV9KwyRcejHu' -O 'assets/pano_asmasuxybohhcj.png'\n",
    "\n",
    "# Create dataset\n",
    "path_dir = './HoHoNet/assets/Pano/'\n",
    "dataset = sorted(glob.glob(os.path.join(path_dir, '*jpg')))\n",
    "\n",
    "color_map = np.array([\n",
    "        [  0,   0,   0],\n",
    "        [255,   0,  40],\n",
    "        [255,  72,   0],\n",
    "        [255, 185,   0],\n",
    "        [205, 255,   0],\n",
    "        [ 91, 255,   0],\n",
    "        [  0, 255,  21],\n",
    "        [  0, 255, 139],\n",
    "        [  0, 255, 252],\n",
    "        [  0, 143, 255],\n",
    "        [  0,  23, 255],\n",
    "        [ 90,   0, 255],\n",
    "        [204,   0, 255],\n",
    "        [255,   0, 191]], dtype=np.uint8)\n",
    "\n",
    "# Visualize an example\n",
    "bgr = cv2.imread(os.path.join('./HoHoNet/panocontext/pano_asmasuxybohhcj.png'))\n",
    "rgb = bgr[:,:,::-1]\n",
    "plt.imshow(rgb)\n",
    "plt.show()"
   ]
  },
  {
   "cell_type": "markdown",
   "metadata": {
    "pycharm": {
     "name": "#%% md\n"
    }
   },
   "source": [
    "### Load model config\n",
    "- We use HoHoNet w/ hardnet encoder in this demo\n",
    "- Find out other version in `mp3d_depth/` and `s2d3d_depth`"
   ]
  },
  {
   "cell_type": "code",
   "execution_count": null,
   "metadata": {
    "pycharm": {
     "name": "#%%\n"
    }
   },
   "outputs": [],
   "source": [
    "# Load model config\n",
    "from lib.config import config\n",
    "\n",
    "config.defrost()\n",
    "config.merge_from_file('./HoHoNet/config/mp3d_depth/HOHO_depth_dct_efficienthc_TransEn1_hardnet.yaml')\n",
    "config.model.kwargs['backbone_config']['kwargs']['pretrained'] = False\n",
    "config.freeze()\n",
    "\n",
    "device = 'cuda' if torch.cuda.is_available() else 'cpu'\n",
    "print('device:', device)\n",
    "\n",
    "# Load model\n",
    "model_file = importlib.import_module(config.model.file)\n",
    "model_class = getattr(model_file, config.model.modelclass)\n",
    "net = model_class(**config.model.kwargs)\n",
    "net.load_state_dict(torch.load(PRETRAINED_PTH, map_location=device))\n",
    "net = net.eval().to(device)\n"
   ]
  },
  {
   "cell_type": "code",
   "execution_count": null,
   "metadata": {
    "pycharm": {
     "name": "#%%\n"
    }
   },
   "outputs": [],
   "source": [
    "# Visualize result in 2d\n",
    "for i in dataset:\n",
    "\n",
    "    # Extract name\n",
    "    name = i.replace('.jpg', '').replace('./HoHoNet/assets/Pano', '')\n",
    "    name1 = name.replace('\\\\', '')\n",
    "    name2 = name1.replace(' ', '_')\n",
    "    print('name1: ', name1)\n",
    "\n",
    "    # Resize panoramic\n",
    "    bgr = cv2.imread(os.path.join(i))\n",
    "    rgb = bgr[:,:,::-1]\n",
    "    rgb_resize = cv2.resize(rgb, (1024, 512), interpolation = cv2.INTER_AREA)\n",
    "\n",
    "    # Move image into tensor, normalize to [0, 255], resize to training resolution\n",
    "    x = torch.from_numpy(rgb_resize).permute(2,0,1)[None].float() / 255.\n",
    "    if x.shape[2:] != config.dataset.common_kwargs.hw:\n",
    "        x = torch.nn.functional.interpolate(x, config.dataset.common_kwargs.hw, mode='area')\n",
    "    x = x.to(device)\n",
    "\n",
    "    # Model feedforward\n",
    "    with torch.no_grad():\n",
    "        ts = time.time()\n",
    "        pred_depth = net.infer(x)\n",
    "        if not torch.is_tensor(pred_depth):\n",
    "            pred_depth = pred_depth.pop('depth')\n",
    "        if torch.cuda.is_available():\n",
    "            torch.cuda.synchronize()\n",
    "        print(f'Eps time: {time.time() - ts:.2f} sec.')\n",
    "\n",
    "\n",
    "    # Visualize result in 2d\n",
    "    image1 = rgb[80:-80]\n",
    "    image2 = pred_depth.squeeze()[80:-80].cpu().numpy()\n",
    "\n",
    "    plt.figure(figsize=(15,6))\n",
    "\n",
    "    plt.subplot(121)\n",
    "    plt.imshow(image1)\n",
    "    plt.axis('off')\n",
    "    plt.title('RGB')\n",
    "\n",
    "    plt.subplot(122)\n",
    "    plt.imshow(image2, cmap='inferno_r')#, vmin=0.1, vmax=10)\n",
    "    plt.axis('off')\n",
    "    plt.title('Depth prediction')\n",
    "\n",
    "    # Save depth prediction\n",
    "    # plt.imsave(f'./HoHoNet/assets/output/depth/{name}_depth.png', image2, format='png', cmap='inferno_r', vmin=0.1, vmax=10)\n",
    "\n",
    "    # Save figure\n",
    "    # plt.draw()\n",
    "    # plt.savefig(f'./HoHoNet/assets/output/result/depth/{name}_result_depth.png', format='png')\n",
    "    plt.show()\n"
   ]
  }
 ],
 "metadata": {
  "kernelspec": {
   "display_name": "Python 3 (ipykernel)",
   "language": "python",
   "name": "python3"
  },
  "language_info": {
   "codemirror_mode": {
    "name": "ipython",
    "version": 3
   },
   "file_extension": ".py",
   "mimetype": "text/x-python",
   "name": "python",
   "nbconvert_exporter": "python",
   "pygments_lexer": "ipython3",
   "version": "3.9.10"
  }
 },
 "nbformat": 4,
 "nbformat_minor": 4
}